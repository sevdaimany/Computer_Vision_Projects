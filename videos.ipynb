{
 "cells": [
  {
   "cell_type": "markdown",
   "id": "78d92095",
   "metadata": {},
   "source": [
    "</br><div align=\"center\"> <b> <font size=\"6\" color='red'>Reading and Writing Videos</font></b> </div>\n",
    "</br>"
   ]
  },
  {
   "cell_type": "code",
   "execution_count": 1,
   "id": "f1711405",
   "metadata": {},
   "outputs": [],
   "source": [
    "import cv2\n",
    "import matplotlib.pyplot as plt\n",
    "import numpy as np\n",
    "from IPython.display import Video"
   ]
  },
  {
   "cell_type": "markdown",
   "id": "911afb2f",
   "metadata": {},
   "source": [
    "</br><div align=\"center\"> <b> <font size=\"5\" color='red'>Reading Video From a File</font></b> </div>\n"
   ]
  },
  {
   "cell_type": "markdown",
   "id": "408c4499",
   "metadata": {},
   "source": [
    "<div align=\"center\"> <b> <font size=\"3\" color='green'>VideoCapture(path, apiPreference)</font></b> </div>\n",
    "<b>path:</b> video path + video name <br>\n",
    "<b>apiPreference:</b> will be explained later, default value is nothing<br>"
   ]
  },
  {
   "cell_type": "code",
   "execution_count": 2,
   "id": "a5743f18",
   "metadata": {},
   "outputs": [],
   "source": [
    "vid_capture = cv2.VideoCapture('./videos/traffic.mp4')"
   ]
  },
  {
   "cell_type": "markdown",
   "id": "6702b4cd",
   "metadata": {},
   "source": [
    "Usefull method of VideoCapture:</br>\n",
    "<b>isOpened():</b> return a boolean that indicates whether or not the video stream is valid <br>\n",
    "<b>read():</b> read frame sequentially. This method returns a tuple, where the first element is a boolean and the next element is the actual video frame. <br>\n",
    "<b>release():</b>release vid_capture object</br>\n",
    "<b>get():</b> retrieve important metadata associated with the video stream \n",
    " - get(3): frame width\n",
    " - get(4): frame height\n",
    " - get(5): video frame rate (fps)\n",
    " - get(7): video frame count"
   ]
  },
  {
   "cell_type": "code",
   "execution_count": 3,
   "id": "2f9c630c",
   "metadata": {},
   "outputs": [
    {
     "name": "stdout",
     "output_type": "stream",
     "text": [
      "Frame Rate :  29 frames per second\n",
      "Frame count :  599.0\n"
     ]
    }
   ],
   "source": [
    "if (vid_capture.isOpened() == False):\n",
    "    print(\"Error opening the video file\")\n",
    "else:\n",
    "    fps = int(vid_capture.get(5))\n",
    "    print(\"Frame Rate : \",fps,\"frames per second\")\n",
    "    frame_count = vid_capture.get(7)\n",
    "    print(\"Frame count : \", frame_count)"
   ]
  },
  {
   "cell_type": "code",
   "execution_count": 4,
   "id": "2c4486a8",
   "metadata": {
    "scrolled": false
   },
   "outputs": [],
   "source": [
    "vid_capture = cv2.VideoCapture('./videos/traffic.mp4')\n",
    "ind_frame = 0\n",
    "# ind_pic = 0\n",
    "# fig, axes = plt.subplots(nrows=1, ncols=6, figsize=(20,20))\n",
    "# ret, frame = vid_capture.read()\n",
    "while vid_capture.isOpened():\n",
    "    ret, frame = vid_capture.read()\n",
    "    if not ret:\n",
    "        break\n",
    "#     if ind_frame%100==0:\n",
    "#         axes[ind_pic].set_title(str(ind_frame))\n",
    "#         axes[ind_pic].imshow(frame)\n",
    "#         ind_pic+=1\n",
    "    pic_name = 'traffic_frame/traffic'+str(ind_frame).zfill(3)+'.jpg'\n",
    "    cv2.imwrite(pic_name, frame)\n",
    "    ind_frame+=1\n",
    "vid_capture.release()"
   ]
  },
  {
   "cell_type": "markdown",
   "id": "85560405",
   "metadata": {},
   "source": [
    "</br><div align=\"center\"> <b> <font size=\"5\" color='red'>Reading an Image Sequence</font></b> </div>\n"
   ]
  },
  {
   "cell_type": "markdown",
   "id": "e87c0265",
   "metadata": {},
   "source": [
    "</br><div align=\"center\"> <b> <font size=\"3\" color='green'>VideoCapture(image_sequence)</font></b> </div>"
   ]
  },
  {
   "cell_type": "code",
   "execution_count": 5,
   "id": "fe00a166",
   "metadata": {},
   "outputs": [],
   "source": [
    "vid_capture = cv2.VideoCapture('traffic_frame/traffic%03d.jpg')"
   ]
  },
  {
   "cell_type": "code",
   "execution_count": 6,
   "id": "4238de3e",
   "metadata": {},
   "outputs": [
    {
     "name": "stdout",
     "output_type": "stream",
     "text": [
      "Frame count :  599.0\n"
     ]
    }
   ],
   "source": [
    "frame_count = vid_capture.get(7)\n",
    "print(\"Frame count : \", frame_count)"
   ]
  },
  {
   "cell_type": "markdown",
   "id": "472aa38c",
   "metadata": {},
   "source": [
    "</br><div align=\"center\"> <b> <font size=\"5\" color='red'>Writing videos</font></b> </div>"
   ]
  },
  {
   "cell_type": "markdown",
   "id": "f6b1cd4b",
   "metadata": {},
   "source": [
    "To write a video use following method:\n",
    "</br><div align=\"center\"> <b> <font size=\"3\" color='green'>VideoWriter(filename, fourcc, fps, frameSize)</font></b> </div>\n",
    "<b>filename:</b> pathname for the output video file <br>\n",
    "<b>fourcc:</b> 4-character code of codec, used to compress the frames (fourcc) <br>\n",
    "<b>fps:</b> frame rate of the created video stream <br>\n",
    "<b>frameSize:</b> size of the video frames<br>"
   ]
  },
  {
   "cell_type": "markdown",
   "id": "227cc546",
   "metadata": {},
   "source": [
    "<b> about fourcc</b></br>\n",
    "The video codec specifies how the video stream is compressed. It converts uncompressed video to a compressed format or vice versa. To create AVI or MP4 formats, use the following fourcc specifications:\n",
    "\n",
    "AVI: cv2.VideoWriter_fourcc('M','J','P','G')\n",
    "\n",
    "MP4: cv2.VideoWriter_fourcc(*'XVID')"
   ]
  },
  {
   "cell_type": "code",
   "execution_count": 7,
   "id": "6540c287",
   "metadata": {},
   "outputs": [],
   "source": [
    "vid_capture = cv2.VideoCapture('traffic_frame/traffic%03d.jpg')\n",
    "frame_size = (int(vid_capture.get(3)),int(vid_capture.get(4)))\n",
    "# print(frame_size)\n",
    "output = cv2.VideoWriter('traffic_fast.avi', cv2.VideoWriter_fourcc('M','J','P','G'), 60, frame_size)\n",
    "while(vid_capture.isOpened()):\n",
    "    ret, frame = vid_capture.read()\n",
    "    if ret == True:\n",
    "        output.write(frame)\n",
    "    else:\n",
    "        break\n",
    "\n",
    "vid_capture.release()\n",
    "output.release()"
   ]
  },
  {
   "cell_type": "code",
   "execution_count": null,
   "id": "fda40d13",
   "metadata": {},
   "outputs": [],
   "source": []
  }
 ],
 "metadata": {
  "kernelspec": {
   "display_name": "Python 3 (ipykernel)",
   "language": "python",
   "name": "python3"
  },
  "language_info": {
   "codemirror_mode": {
    "name": "ipython",
    "version": 3
   },
   "file_extension": ".py",
   "mimetype": "text/x-python",
   "name": "python",
   "nbconvert_exporter": "python",
   "pygments_lexer": "ipython3",
   "version": "3.8.2"
  }
 },
 "nbformat": 4,
 "nbformat_minor": 5
}
