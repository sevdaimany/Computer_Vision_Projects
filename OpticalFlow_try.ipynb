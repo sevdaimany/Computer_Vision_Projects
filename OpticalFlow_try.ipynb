{
 "cells": [
  {
   "cell_type": "markdown",
   "id": "d7f2c5dd",
   "metadata": {},
   "source": [
    "# Optical Flow"
   ]
  },
  {
   "cell_type": "markdown",
   "id": "6e3c585f",
   "metadata": {},
   "source": [
    "</br><div align=\"center\"> <b> <font size=\"3\" color='green'>cv2.calcOpticalFlowPyrLK(prevImg, nextImg, prevPts, nextPts, winSize, maxLevel)</font></b> </div>\n",
    "<b>prevImg: </b>first 8-bit input image. </br>\n",
    "<b>nextImg: </b>second input image. </br>\n",
    "<b>prevPts: </b>vector of 2D points for which the flow needs to be found.</br>\n",
    "<b>nextPts: </b>vector of 2D points for which the flow needs to be found.</br>\n",
    "<b>winSize: </b> size of the search window at each pyramid level.</br>\n",
    "<b>maxLevel: </b> 0-based maximal pyramid level number; if set to 0, pyramids are not used (single level), if set to 1, two levels are used, and so on."
   ]
  },
  {
   "cell_type": "markdown",
   "id": "cf3e22a6",
   "metadata": {},
   "source": [
    "</br><div align=\"center\"> <b> <font size=\"3\" color='green'> cv2.calcOpticalFlowFarneback(prev, next, pyr_scale, levels, winsize, iterations, poly_n, poly_sigma)</font></b> </div>\n",
    "\n",
    "<b>prev: </b> First input image in 8-bit single channel format.\n",
    "\n",
    "next : Second input image of same type and same size as prev.\n",
    "\n",
    "pyr_scale : parameter specifying the image scale to build pyramids for each image (scale < 1). A classic pyramid is of \n",
    "generally 0.5 scale, every new layer added, it is halved to the previous one.\n",
    "\n",
    "levels : levels=1 says, there are no extra layers (only the initial image) . It is the number of pyramid layers including the first image.\n",
    "\n",
    "winsize : It is the average window size, larger the size, the more robust the algorithm is to noise, and provide fast motion detection, though gives blurred motion fields.\n",
    "\n",
    "iterations : Number of iterations to be performed at each pyramid level.\n",
    "\n",
    "poly_n : It is typically 5 or 7, it is the size of the pixel neighbourhood which is used to find polynomial expansion between the pixels.\n",
    "\n",
    "poly_sigma : standard deviation of the gaussian that is for derivatives to be smooth as the basis of the polynomial expansion. It can be 1.1 for poly= 5 and 1.5 for poly= 7."
   ]
  }
 ],
 "metadata": {
  "kernelspec": {
   "display_name": "Python 3 (ipykernel)",
   "language": "python",
   "name": "python3"
  },
  "language_info": {
   "codemirror_mode": {
    "name": "ipython",
    "version": 3
   },
   "file_extension": ".py",
   "mimetype": "text/x-python",
   "name": "python",
   "nbconvert_exporter": "python",
   "pygments_lexer": "ipython3",
   "version": "3.7.11"
  }
 },
 "nbformat": 4,
 "nbformat_minor": 5
}
